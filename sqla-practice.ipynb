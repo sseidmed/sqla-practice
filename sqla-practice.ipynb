{
 "cells": [
  {
   "cell_type": "code",
   "execution_count": 7,
   "id": "4b814ca4",
   "metadata": {},
   "outputs": [],
   "source": [
    "from sqlalchemy.orm import registry\n",
    "from sqlalchemy import Column, Integer, String, Boolean"
   ]
  },
  {
   "cell_type": "code",
   "execution_count": 8,
   "id": "64b659d5",
   "metadata": {},
   "outputs": [],
   "source": [
    "mapper_registry = registry()"
   ]
  },
  {
   "cell_type": "code",
   "execution_count": 79,
   "id": "dda7783d",
   "metadata": {},
   "outputs": [
    {
     "name": "stderr",
     "output_type": "stream",
     "text": [
      "/var/folders/fn/z18mbfyn1qj6tfk92mpyj65h0000gn/T/ipykernel_52923/1829293910.py:2: SAWarning: This declarative base already contains a class with the same class name and module name as __main__.Partner, and will be replaced in the string-lookup table.\n",
      "  class Partner:\n"
     ]
    }
   ],
   "source": [
    "@mapper_registry.mapped\n",
    "class Partner:\n",
    "    __tablename__ = 'partner'\n",
    "    __table_args__ = {'extend_existing': True} \n",
    "    id = Column(Integer, primary_key=True)\n",
    "    name = Column(String, nullable=False)\n",
    "    is_active = Column(Boolean, nullable=False)\n",
    "    \n",
    "    def __repr__(self):\n",
    "        return f'<Partner> {self.id} - {self.name}'"
   ]
  },
  {
   "cell_type": "code",
   "execution_count": 80,
   "id": "8db84324",
   "metadata": {},
   "outputs": [
    {
     "data": {
      "text/plain": [
       "Table('partner', MetaData(), Column('id', Integer(), table=<partner>, primary_key=True, nullable=False), Column('name', String(), table=<partner>, nullable=False), Column('is_active', Boolean(), table=<partner>, nullable=False), schema=None)"
      ]
     },
     "execution_count": 80,
     "metadata": {},
     "output_type": "execute_result"
    }
   ],
   "source": [
    "# the User class now has a Table object associated with it\n",
    "Partner.__table__"
   ]
  },
  {
   "cell_type": "code",
   "execution_count": 81,
   "id": "4c8a0f1e",
   "metadata": {},
   "outputs": [
    {
     "data": {
      "text/plain": [
       "<Mapper at 0x7fa4a06b8d90; Partner>"
      ]
     },
     "execution_count": 81,
     "metadata": {},
     "output_type": "execute_result"
    }
   ],
   "source": [
    "# The Mapper object mediates the relationship between User              \n",
    "# and the \"user\" Table object.  This mapper object is generally behind  \n",
    "# the scenes.\n",
    "Partner.__mapper__"
   ]
  },
  {
   "cell_type": "code",
   "execution_count": 82,
   "id": "da40c447",
   "metadata": {},
   "outputs": [],
   "source": [
    "boston_wine = Partner(name=\"Boston Wine Emporium\", is_active=True)"
   ]
  },
  {
   "cell_type": "code",
   "execution_count": 83,
   "id": "c167d63f",
   "metadata": {},
   "outputs": [
    {
     "data": {
      "text/plain": [
       "<Partner> None - Boston Wine Emporium"
      ]
     },
     "execution_count": 83,
     "metadata": {},
     "output_type": "execute_result"
    }
   ],
   "source": [
    "boston_wine"
   ]
  },
  {
   "cell_type": "code",
   "execution_count": 84,
   "id": "501c6ac2",
   "metadata": {},
   "outputs": [
    {
     "data": {
      "text/plain": [
       "True"
      ]
     },
     "execution_count": 84,
     "metadata": {},
     "output_type": "execute_result"
    }
   ],
   "source": [
    "boston_wine.is_active"
   ]
  },
  {
   "cell_type": "code",
   "execution_count": 85,
   "id": "5c9232db",
   "metadata": {},
   "outputs": [
    {
     "data": {
      "text/plain": [
       "'Boston Wine Emporium'"
      ]
     },
     "execution_count": 85,
     "metadata": {},
     "output_type": "execute_result"
    }
   ],
   "source": [
    "boston_wine.name"
   ]
  },
  {
   "cell_type": "code",
   "execution_count": 86,
   "id": "3f45bf37",
   "metadata": {},
   "outputs": [
    {
     "data": {
      "text/plain": [
       "'None'"
      ]
     },
     "execution_count": 86,
     "metadata": {},
     "output_type": "execute_result"
    }
   ],
   "source": [
    "# Attributes which we didn't set, such as the \"id\", are displayed as  |\n",
    "# None when we access them\n",
    "repr(boston_wine.id)"
   ]
  },
  {
   "cell_type": "code",
   "execution_count": 87,
   "id": "150a8a23",
   "metadata": {},
   "outputs": [],
   "source": [
    "# Using our registry, we can create a database schema for this class using\n",
    "# a MetaData object that is part of the registry.\n",
    "from sqlalchemy import create_engine"
   ]
  },
  {
   "cell_type": "code",
   "execution_count": 88,
   "id": "98117875",
   "metadata": {},
   "outputs": [],
   "source": [
    "engine = create_engine(\"sqlite://\")"
   ]
  },
  {
   "cell_type": "code",
   "execution_count": 89,
   "id": "61d195a6",
   "metadata": {},
   "outputs": [],
   "source": [
    "with engine.begin() as connection:\n",
    "    mapper_registry.metadata.create_all(connection)"
   ]
  },
  {
   "cell_type": "code",
   "execution_count": 90,
   "id": "4043912e",
   "metadata": {},
   "outputs": [],
   "source": [
    "# To persist and load User objects from the database, we           \n",
    "#  use a Session object, illustrated here from a factory called     \n",
    "#  sessionmaker.  The Session object makes use of a connection      \n",
    "#  factory (i.e. an Engine) and will handle the job of connecting,  \n",
    "#  committing, and releasing connections to this engine."
   ]
  },
  {
   "cell_type": "code",
   "execution_count": 91,
   "id": "2b421435",
   "metadata": {},
   "outputs": [],
   "source": [
    "from sqlalchemy.orm import sessionmaker"
   ]
  },
  {
   "cell_type": "code",
   "execution_count": 92,
   "id": "affba6f2",
   "metadata": {},
   "outputs": [],
   "source": [
    "Session = sessionmaker(bind=engine, future=True)"
   ]
  },
  {
   "cell_type": "code",
   "execution_count": 93,
   "id": "86f47fcb",
   "metadata": {},
   "outputs": [],
   "source": [
    "session = Session()"
   ]
  },
  {
   "cell_type": "code",
   "execution_count": 94,
   "id": "c5a3b613",
   "metadata": {},
   "outputs": [],
   "source": [
    "# new objects are placed into Session using add()"
   ]
  },
  {
   "cell_type": "code",
   "execution_count": 95,
   "id": "96374926",
   "metadata": {},
   "outputs": [],
   "source": [
    "session.add(boston_wine)"
   ]
  },
  {
   "cell_type": "code",
   "execution_count": 96,
   "id": "bcf788dd",
   "metadata": {},
   "outputs": [
    {
     "data": {
      "text/plain": [
       "IdentitySet([<Partner> None - Boston Wine Emporium])"
      ]
     },
     "execution_count": 96,
     "metadata": {},
     "output_type": "execute_result"
    }
   ],
   "source": [
    "# This did not yet modify the database, however the object is now known as      \n",
    "# **pending**.  We can see the \"pending\" objects by looking at the session.new  \n",
    "# attribute.\n",
    "session.new"
   ]
  },
  {
   "cell_type": "code",
   "execution_count": 97,
   "id": "818e4e26",
   "metadata": {},
   "outputs": [
    {
     "data": {
      "text/plain": [
       "<Partner> None - Boston Wine Emporium"
      ]
     },
     "execution_count": 97,
     "metadata": {},
     "output_type": "execute_result"
    }
   ],
   "source": [
    "boston_wine"
   ]
  },
  {
   "cell_type": "code",
   "execution_count": 98,
   "id": "da8ba3ca",
   "metadata": {},
   "outputs": [],
   "source": [
    "from sqlalchemy import select\n",
    "select_statement = select(Partner).filter_by(name='Boston Wine Emporium')\n",
    "result = session.execute(select_statement)"
   ]
  },
  {
   "cell_type": "code",
   "execution_count": 99,
   "id": "b78b2b36",
   "metadata": {},
   "outputs": [
    {
     "data": {
      "text/plain": [
       "<sqlalchemy.engine.result.ChunkedIteratorResult at 0x7fa450105040>"
      ]
     },
     "execution_count": 99,
     "metadata": {},
     "output_type": "execute_result"
    }
   ],
   "source": [
    "result"
   ]
  },
  {
   "cell_type": "code",
   "execution_count": 100,
   "id": "4396ae9f",
   "metadata": {},
   "outputs": [],
   "source": [
    "# We can get the data back from the result, in this case using the \n",
    "# .scalar() method which will return the first column of the first row.\n",
    "also_winery = result.scalar()"
   ]
  },
  {
   "cell_type": "code",
   "execution_count": 101,
   "id": "cf8fbfe3",
   "metadata": {},
   "outputs": [
    {
     "data": {
      "text/plain": [
       "<Partner> 1 - Boston Wine Emporium"
      ]
     },
     "execution_count": 101,
     "metadata": {},
     "output_type": "execute_result"
    }
   ],
   "source": [
    "also_winery"
   ]
  },
  {
   "cell_type": "code",
   "execution_count": 103,
   "id": "02533947",
   "metadata": {},
   "outputs": [
    {
     "data": {
      "text/plain": [
       "1"
      ]
     },
     "execution_count": 103,
     "metadata": {},
     "output_type": "execute_result"
    }
   ],
   "source": [
    "boston_wine.id"
   ]
  },
  {
   "cell_type": "code",
   "execution_count": 104,
   "id": "4560bde4",
   "metadata": {},
   "outputs": [
    {
     "data": {
      "text/plain": [
       "True"
      ]
     },
     "execution_count": 104,
     "metadata": {},
     "output_type": "execute_result"
    }
   ],
   "source": [
    "boston_wine is also_winery"
   ]
  },
  {
   "cell_type": "code",
   "execution_count": 105,
   "id": "04b737ee",
   "metadata": {},
   "outputs": [
    {
     "data": {
      "text/plain": [
       "[((__main__.Partner, (1,), None), <Partner> 1 - Boston Wine Emporium)]"
      ]
     },
     "execution_count": 105,
     "metadata": {},
     "output_type": "execute_result"
    }
   ],
   "source": [
    "session.identity_map.items()"
   ]
  },
  {
   "cell_type": "code",
   "execution_count": 106,
   "id": "90d62db3",
   "metadata": {},
   "outputs": [],
   "source": [
    "session.add_all(\n",
    "    [\n",
    "        Partner(name='Arsenal Wine & Spirits', is_active=True),\n",
    "        Partner(name='Sherry\\'s Wine & Spirits', is_active=False)\n",
    "    ])"
   ]
  },
  {
   "cell_type": "code",
   "execution_count": 107,
   "id": "c69a48b4",
   "metadata": {},
   "outputs": [],
   "source": [
    "boston_wine.is_active = False"
   ]
  },
  {
   "cell_type": "code",
   "execution_count": 108,
   "id": "6a9e48ce",
   "metadata": {},
   "outputs": [
    {
     "data": {
      "text/plain": [
       "IdentitySet([<Partner> 1 - Boston Wine Emporium])"
      ]
     },
     "execution_count": 108,
     "metadata": {},
     "output_type": "execute_result"
    }
   ],
   "source": [
    "# the Session can tell us which objects are dirty\n",
    "session.dirty"
   ]
  },
  {
   "cell_type": "code",
   "execution_count": 109,
   "id": "5fcf31e8",
   "metadata": {},
   "outputs": [
    {
     "data": {
      "text/plain": [
       "IdentitySet([<Partner> None - Arsenal Wine & Spirits, <Partner> None - Sherry's Wine & Spirits])"
      ]
     },
     "execution_count": 109,
     "metadata": {},
     "output_type": "execute_result"
    }
   ],
   "source": [
    "# the Session can tell us which objects are pending\n",
    "session.new"
   ]
  },
  {
   "cell_type": "code",
   "execution_count": 111,
   "id": "5cf3cdda",
   "metadata": {},
   "outputs": [],
   "source": [
    "# The whole transaction is committed.  Commit always triggers\n",
    "# a final flush of remaining changes.\n",
    "session.commit()"
   ]
  },
  {
   "cell_type": "code",
   "execution_count": 112,
   "id": "60a98ebe",
   "metadata": {},
   "outputs": [
    {
     "data": {
      "text/plain": [
       "False"
      ]
     },
     "execution_count": 112,
     "metadata": {},
     "output_type": "execute_result"
    }
   ],
   "source": [
    "# After a commit, theres no transaction.  The Session                \n",
    "# *invalidates* all data, so that accessing them will automatically  \n",
    "# start a *new* transaction and re-load from the database.  This is  \n",
    "# our first example of the ORM *lazy loading* pattern.\n",
    "\n",
    "boston_wine.is_active"
   ]
  },
  {
   "cell_type": "code",
   "execution_count": 114,
   "id": "0434d6a6",
   "metadata": {},
   "outputs": [],
   "source": [
    "# *** rolling back changes ***\n",
    "\n",
    "# You try: \n",
    "    # Make another \"dirty\" change, and another \"pending\" change,\n",
    "    # that we might change our minds about."
   ]
  },
  {
   "cell_type": "code",
   "execution_count": 115,
   "id": "a8364427",
   "metadata": {},
   "outputs": [],
   "source": [
    "boston_wine.name = \"Fake name for this Boston wine place\"\n",
    "session.add(Partner(name=\"I dont intend to keep this\", is_active=False))"
   ]
  },
  {
   "cell_type": "code",
   "execution_count": 116,
   "id": "b3fa61bb",
   "metadata": {},
   "outputs": [
    {
     "data": {
      "text/plain": [
       "IdentitySet([<Partner> 1 - Fake name for this Boston wine place])"
      ]
     },
     "execution_count": 116,
     "metadata": {},
     "output_type": "execute_result"
    }
   ],
   "source": [
    "session.dirty"
   ]
  },
  {
   "cell_type": "code",
   "execution_count": 117,
   "id": "f2f7b35a",
   "metadata": {},
   "outputs": [
    {
     "data": {
      "text/plain": [
       "IdentitySet([<Partner> None - I dont intend to keep this])"
      ]
     },
     "execution_count": 117,
     "metadata": {},
     "output_type": "execute_result"
    }
   ],
   "source": [
    "session.new"
   ]
  },
  {
   "cell_type": "code",
   "execution_count": 125,
   "id": "5bdb3a27",
   "metadata": {},
   "outputs": [],
   "source": [
    "result = session.execute(\n",
    "    select(Partner).where(Partner.name.in_(['Fake name for this Boston wine place', \n",
    "                                  'I dont intend to keep this']))\n",
    "    )\n"
   ]
  },
  {
   "cell_type": "code",
   "execution_count": 126,
   "id": "5437fc15",
   "metadata": {},
   "outputs": [
    {
     "data": {
      "text/plain": [
       "[]"
      ]
     },
     "execution_count": 126,
     "metadata": {},
     "output_type": "execute_result"
    }
   ],
   "source": [
    "result.all()"
   ]
  },
  {
   "cell_type": "code",
   "execution_count": 124,
   "id": "161f8343",
   "metadata": {},
   "outputs": [],
   "source": [
    "session.rollback()"
   ]
  },
  {
   "cell_type": "code",
   "execution_count": 127,
   "id": "6f718fef",
   "metadata": {},
   "outputs": [
    {
     "data": {
      "text/plain": [
       "'Boston Wine Emporium'"
      ]
     },
     "execution_count": 127,
     "metadata": {},
     "output_type": "execute_result"
    }
   ],
   "source": [
    "boston_wine.name"
   ]
  },
  {
   "cell_type": "code",
   "execution_count": 128,
   "id": "6497a58a",
   "metadata": {},
   "outputs": [],
   "source": [
    "result = session.execute(\n",
    "    select(Partner).where(Partner.name.in_(['Boston Wine Emporium', \n",
    "                                  'I dont intend to keep this']))\n",
    "    )"
   ]
  },
  {
   "cell_type": "code",
   "execution_count": 129,
   "id": "ad722a38",
   "metadata": {},
   "outputs": [
    {
     "data": {
      "text/plain": [
       "[(<Partner> 1 - Boston Wine Emporium,)]"
      ]
     },
     "execution_count": 129,
     "metadata": {},
     "output_type": "execute_result"
    }
   ],
   "source": [
    "result.all()"
   ]
  },
  {
   "cell_type": "code",
   "execution_count": null,
   "id": "a8b83869",
   "metadata": {},
   "outputs": [],
   "source": [
    "# Notes to myself\n",
    "\n",
    "# Create engine first with the in-memory db\n",
    "# Then create a session object\n",
    "    # How do you see 'dirty' objects? \n",
    "    # How do you see 'pending' objects?\n",
    "    # Check session by running: session.dirty and session.new\n",
    "    # There are 5 different object states? Need to rewatch the Sqlalchemy 2021 video again\n",
    "# Before you commit, you can session.rollback()"
   ]
  }
 ],
 "metadata": {
  "kernelspec": {
   "display_name": "Python 3 (ipykernel)",
   "language": "python",
   "name": "python3"
  },
  "language_info": {
   "codemirror_mode": {
    "name": "ipython",
    "version": 3
   },
   "file_extension": ".py",
   "mimetype": "text/x-python",
   "name": "python",
   "nbconvert_exporter": "python",
   "pygments_lexer": "ipython3",
   "version": "3.9.13"
  }
 },
 "nbformat": 4,
 "nbformat_minor": 5
}
